{
 "cells": [
  {
   "cell_type": "code",
   "execution_count": 3,
   "id": "3d647305",
   "metadata": {},
   "outputs": [],
   "source": [
    "# !pip install seaborn"
   ]
  },
  {
   "cell_type": "code",
   "execution_count": 4,
   "id": "a2c8f100",
   "metadata": {},
   "outputs": [
    {
     "name": "stderr",
     "output_type": "stream",
     "text": [
      "C:\\Users\\arnav\\AppData\\Local\\Packages\\PythonSoftwareFoundation.Python.3.13_qbz5n2kfra8p0\\LocalCache\\local-packages\\Python313\\site-packages\\tqdm\\auto.py:21: TqdmWarning: IProgress not found. Please update jupyter and ipywidgets. See https://ipywidgets.readthedocs.io/en/stable/user_install.html\n",
      "  from .autonotebook import tqdm as notebook_tqdm\n"
     ]
    }
   ],
   "source": [
    "# step_2_topic_discovery.ipynb (consultant-grade modular pipeline)\n",
    "\n",
    "import pandas as pd\n",
    "from sklearn.cluster import KMeans\n",
    "from sentence_transformers import SentenceTransformer\n",
    "import matplotlib.pyplot as plt\n",
    "import seaborn as sns\n",
    "import warnings\n",
    "warnings.filterwarnings(\"ignore\")"
   ]
  },
  {
   "cell_type": "code",
   "execution_count": 5,
   "id": "53944483",
   "metadata": {},
   "outputs": [],
   "source": [
    "# -------------------- 1. Load Cleaned Data --------------------\n",
    "def load_cleaned_queries(filepath):\n",
    "    df = pd.read_csv(filepath)\n",
    "    if 'cleaned_query' not in df.columns:\n",
    "        raise ValueError(\"Missing 'cleaned_query' column in uploaded file.\")\n",
    "    return df\n"
   ]
  },
  {
   "cell_type": "code",
   "execution_count": 6,
   "id": "d7e35f69",
   "metadata": {},
   "outputs": [],
   "source": [
    "# -------------------- 2. Generate Sentence Embeddings --------------------\n",
    "def embed_queries(queries):\n",
    "    # model = SentenceTransformer(\"all-MiniLM-L6-v2\")\n",
    "    model = SentenceTransformer(\"BAAI/bge-small-en-v1.5\")\n",
    "    embeddings = model.encode(queries.tolist(), show_progress_bar=True)\n",
    "    return embeddings\n"
   ]
  },
  {
   "cell_type": "code",
   "execution_count": 7,
   "id": "fcd42c4e",
   "metadata": {},
   "outputs": [],
   "source": [
    "# -------------------- 3. Cluster Embeddings --------------------\n",
    "def cluster_queries(embeddings, n_clusters):\n",
    "    kmeans = KMeans(n_clusters=n_clusters, random_state=42)\n",
    "    labels = kmeans.fit_predict(embeddings)\n",
    "    return labels\n"
   ]
  },
  {
   "cell_type": "code",
   "execution_count": 8,
   "id": "2eb1a6dd",
   "metadata": {},
   "outputs": [],
   "source": [
    "# -------------------- 4. Add Topics --------------------\n",
    "def assign_topics(df, labels):\n",
    "    df['topic'] = labels\n",
    "    return df"
   ]
  },
  {
   "cell_type": "code",
   "execution_count": null,
   "id": "494392d4",
   "metadata": {},
   "outputs": [],
   "source": [
    "# -------------------- 7. Save Output --------------------\n",
    "def save_labeled_queries(df, output_path=\"clustered_queries_k25.csv\"):\n",
    "    df.to_csv(output_path, index=False)\n",
    "    print(f\"\\n✅ Clustered data saved to: {output_path}\")\n",
    "\n"
   ]
  },
  {
   "cell_type": "code",
   "execution_count": 10,
   "id": "0ec3fe0f",
   "metadata": {},
   "outputs": [],
   "source": [
    "import numpy as np\n",
    "import matplotlib.pyplot as plt\n",
    "from sklearn.cluster import KMeans\n",
    "from sklearn.metrics import silhouette_score\n",
    "\n",
    "def find_practical_k(k_range, silhouette_scores, inertias, sil_thresh=0.005, inertia_thresh=0.05):\n",
    "    \"\"\"\n",
    "    Picks smallest k where improvement slows down based on thresholds.\n",
    "    \"\"\"\n",
    "    for i in range(1, len(k_range)):\n",
    "        sil_gain = silhouette_scores[i] - silhouette_scores[i-1]\n",
    "        inertia_drop = (inertias[i-1] - inertias[i]) / inertias[i-1]\n",
    "        \n",
    "        if sil_gain < sil_thresh and inertia_drop < inertia_thresh:\n",
    "            return k_range[i]\n",
    "    return k_range[-1]  # fallback to last if never meets criteria\n",
    "\n",
    "def evaluate_silhouette_elbow(embeddings, k_range=range(5, 50, 5)):\n",
    "    silhouette_scores = []\n",
    "    inertias = []\n",
    "\n",
    "    for k in k_range:\n",
    "        kmeans = KMeans(n_clusters=k, random_state=42).fit(embeddings)\n",
    "        labels = kmeans.labels_\n",
    "        silhouette_scores.append(silhouette_score(embeddings, labels))\n",
    "        inertias.append(kmeans.inertia_)\n",
    "        print(f\"k={k}: Silhouette={silhouette_scores[-1]:.4f}, Inertia={inertias[-1]:.2f}\")\n",
    "\n",
    "    practical_k = find_practical_k(k_range, silhouette_scores, inertias, sil_thresh=0.006, inertia_thresh=0.1)\n",
    "\n",
    "    print(f\"\\nPractical optimal k: {practical_k}\")\n",
    "\n",
    "    # Plot\n",
    "    fig, axs = plt.subplots(1, 2, figsize=(12, 5))\n",
    "\n",
    "    axs[0].plot(k_range, silhouette_scores, marker='o')\n",
    "    axs[0].set_title(\"Silhouette Score\")\n",
    "    axs[0].axvline(x=practical_k, color='r', linestyle='--', label=f'Chosen k={practical_k}')\n",
    "    axs[0].legend()\n",
    "\n",
    "    axs[1].plot(k_range, inertias, marker='s', color='orange')\n",
    "    axs[1].set_title(\"Elbow Method (Inertia)\")\n",
    "    axs[1].axvline(x=practical_k, color='r', linestyle='--')\n",
    "    axs[1].legend([f'Chosen k={practical_k}'])\n",
    "\n",
    "    plt.tight_layout()\n",
    "    plt.show()\n",
    "\n",
    "    return practical_k\n"
   ]
  },
  {
   "cell_type": "code",
   "execution_count": 11,
   "id": "7e94c99d",
   "metadata": {},
   "outputs": [
    {
     "name": "stderr",
     "output_type": "stream",
     "text": [
      "Batches: 100%|██████████| 204/204 [00:20<00:00,  9.99it/s]\n"
     ]
    },
    {
     "name": "stdout",
     "output_type": "stream",
     "text": [
      "k=5: Silhouette=0.1108, Inertia=1806.41\n",
      "k=10: Silhouette=0.1766, Inertia=1455.36\n",
      "k=15: Silhouette=0.2049, Inertia=1249.55\n",
      "k=20: Silhouette=0.2338, Inertia=1087.55\n",
      "k=25: Silhouette=0.2323, Inertia=986.81\n",
      "k=30: Silhouette=0.2341, Inertia=925.96\n",
      "k=35: Silhouette=0.2369, Inertia=883.10\n",
      "k=40: Silhouette=0.2322, Inertia=828.25\n",
      "k=45: Silhouette=0.2346, Inertia=791.84\n",
      "\n",
      "Practical optimal k: 25\n"
     ]
    },
    {
     "data": {
      "image/png": "[encoded data removed]",
      "text/plain": [
       "<Figure size 1200x500 with 2 Axes>"
      ]
     },
     "metadata": {},
     "output_type": "display_data"
    },
    {
     "data": {
      "text/plain": [
       "25"
      ]
     },
     "execution_count": 11,
     "metadata": {},
     "output_type": "execute_result"
    }
   ],
   "source": [
    "# -------------------- 8. Run Full Step 2 Pipeline --------------------\n",
    "\n",
    "df = load_cleaned_queries(\"cleaned_queries.csv\")\n",
    "embeddings = embed_queries(df['cleaned_query'])\n",
    "evaluate_silhouette_elbow(embeddings)\n",
    "\n"
   ]
  },
  {
   "cell_type": "code",
   "execution_count": null,
   "id": "ed568c15",
   "metadata": {},
   "outputs": [],
   "source": [
    "# labels = cluster_queries(embeddings, n_clusters=25)\n",
    "# df = assign_topics(df, labels)\n",
    "# save_labeled_queries(df)"
   ]
  },
  {
   "cell_type": "markdown",
   "id": "7232d52f",
   "metadata": {},
   "source": [
    "### I tested both the Elbow Method and Silhouette Score across a range of cluster values from 5 to 30. Both methods independently converged on 20 clusters as the optimal balance between topic distinctiveness and query grouping efficiency. I therefore selected k = 20 as the final cluster count for topic modeling and filter out the top 10 to answer our question number 2"
   ]
  },
  {
   "cell_type": "markdown",
   "id": "b08b94ab",
   "metadata": {},
   "source": [
    "Assigning topic Labelsfynamically by randomly passing 100 samples per topic ID to gemini API "
   ]
  },
  {
   "cell_type": "code",
   "execution_count": null,
   "id": "94dff2aa",
   "metadata": {},
   "outputs": [],
   "source": [
    "# import pandas as pd\n",
    "# import google.generativeai as genai\n",
    "# import json\n",
    "# import re\n",
    "# import os\n",
    "# # ---------------------- Config ---------------------- #\n",
    "# input_file = \"clustered_queries_k25.csv\"\n",
    "# output_file = \"clustered_queries_k25_labelled.csv\"\n",
    "# dict_file = \"topic_keyword_dict.json\"\n",
    "# mapping_file = \"cluster_mapping.txt\"\n",
    "# api_key = os.getenv(\"Google_API_key\")  # User-provided Gemini API key\n",
    "# model_name = \"gemini-2.5-flash\"\n",
    "# top_n_examples =100  # Max queries sent to Gemini per cluster\n",
    "\n",
    "# # ------------------ Gemini Setup ------------------ #\n",
    "# genai.configure(api_key=api_key)\n",
    "# model = genai.GenerativeModel(model_name)\n",
    "\n",
    "# # ------------------ Helper Functions ------------------ #\n",
    "# def parse_gemini_json(raw_text):\n",
    "#     \"\"\"Remove markdown code fences if Gemini wraps JSON in ```json ... ```.\"\"\"\n",
    "#     cleaned = re.sub(r\"^```json\\s*|\\s*```$\", \"\", raw_text.strip(), flags=re.MULTILINE)\n",
    "#     cleaned = cleaned.strip()\n",
    "#     return json.loads(cleaned)\n",
    "\n",
    "# def get_topic_label_and_keywords(cluster_id, queries):\n",
    "#     prompt = f\"\"\"\n",
    "#     You are analyzing customer queries from the same cluster (cluster ID: {cluster_id}).\n",
    "\n",
    "#     Here are up to {top_n_examples} example queries:\n",
    "#     {json.dumps(queries, ensure_ascii=False, indent=2)}\n",
    "\n",
    "#     Task:\n",
    "#     1. Determine the most appropriate short topic label .\n",
    "#     2. Provide 10–20 representative keywords relevant to this cluster.\n",
    "\n",
    "#     Return ONLY valid JSON in this exact structure:\n",
    "#     {{\n",
    "#       \"label\": \"Example Topic Name\",\n",
    "#       \"keywords\": [\"word1\", \"word2\", \"word3\", ...]\n",
    "#     }}\n",
    "#     \"\"\"\n",
    "\n",
    "#     response = model.generate_content(prompt)\n",
    "\n",
    "#     try:\n",
    "#         result = parse_gemini_json(response.text)\n",
    "#         return result[\"label\"], result[\"keywords\"]\n",
    "#     except Exception as e:\n",
    "#         print(f\"⚠ Error parsing Gemini output for cluster {cluster_id}: {e}\")\n",
    "#         print(\"Raw output:\", response.text)\n",
    "#         return None, []\n",
    "\n",
    "# # ------------------ Main Pipeline ------------------ #\n",
    "# df = pd.read_csv(input_file)\n",
    "\n",
    "# topic_keyword_dict = {}\n",
    "# cluster_to_label = {}\n",
    "# mapping_lines = []\n",
    "\n",
    "# for cluster_id in sorted(df['topic'].unique()):\n",
    "#     cluster_queries = df[df['topic'] == cluster_id]['cleaned_query'].dropna().tolist()\n",
    "#     sample_queries = cluster_queries[:top_n_examples]\n",
    "\n",
    "#     label, keywords = get_topic_label_and_keywords(cluster_id, sample_queries)\n",
    "\n",
    "#     if label:\n",
    "#         topic_keyword_dict[label] = keywords\n",
    "#         cluster_to_label[cluster_id] = label\n",
    "\n",
    "#         mapping_line = f\"Cluster {cluster_id} → {label} | Keywords: {keywords}\"\n",
    "#         mapping_lines.append(mapping_line)\n",
    "#         print(mapping_line)\n",
    "\n",
    "# # Assign generated topic labels\n",
    "# df['topic_label'] = df['topic'].map(cluster_to_label)\n",
    "\n",
    "# # Save updated CSV\n",
    "# df.to_csv(output_file, index=False)\n",
    "\n",
    "# # Save keyword dictionary\n",
    "# with open(dict_file, \"w\", encoding=\"utf-8\") as f:\n",
    "#     json.dump(topic_keyword_dict, f, ensure_ascii=False, indent=2)\n",
    "\n",
    "# # Save cluster mapping text file\n",
    "# with open(mapping_file, \"w\", encoding=\"utf-8\") as f:\n",
    "#     for line in mapping_lines:\n",
    "#         f.write(line + \"\\n\")\n",
    "\n",
    "# print(\"\\n✅ Saved labeled queries to:\", output_file)\n",
    "# print(\"✅ Saved topic_keyword_dict to:\", dict_file)\n",
    "# print(\"✅ Saved cluster mapping to:\", mapping_file)\n"
   ]
  },
  {
   "cell_type": "code",
   "execution_count": 33,
   "id": "5e5dba2c",
   "metadata": {},
   "outputs": [
    {
     "name": "stdout",
     "output_type": "stream",
     "text": [
      "✅ Saved: clustered_labelled_queries_final.csv\n"
     ]
    }
   ],
   "source": [
    "# -------- Override logic -------- #\n",
    "\n",
    "import pandas as pd\n",
    "\n",
    "# ----------------- Load Labelled Clusters ----------------- #\n",
    "df = pd.read_csv(\"clustered_queries_k25_labelled.csv\")\n",
    "\n",
    "# ----------------- Override Function ----------------- #\n",
    "def override_topic_label(row):\n",
    "    query = row['cleaned_query'].lower()\n",
    "    current_label = row['topic_label']\n",
    "\n",
    "    # Rule 1️⃣ — For \"Order Cancellation\" containing removal phrases → \"Order Modifications\"\n",
    "    if current_label == \"Order Cancellation\":\n",
    "        delivery_time_phrases = [\"remove\", \"removing\"]\n",
    "        if any(phrase in query for phrase in delivery_time_phrases):\n",
    "            return \"Order Modifications\"\n",
    "    \n",
    "    # Rule 2️⃣ — For \"Customer Complaints & Feedback\" containing 'feedback' → \"Leaving a Review\"\n",
    "    if current_label == \"Customer Complaints & Feedback\":\n",
    "        if \"feedback\" in query:\n",
    "            return \"Leaving a Review\"\n",
    "\n",
    "    # Otherwise keep the original\n",
    "    return current_label\n",
    "\n",
    "# ----------------- Apply Override ----------------- #\n",
    "df['topic_label_final'] = df.apply(override_topic_label, axis=1)\n",
    "\n",
    "# ----------------- Save & Use ----------------- #\n",
    "df.to_csv(\"clustered_labelled_queries_final.csv\", index=False)\n",
    "print(\"✅ Saved: clustered_labelled_queries_final.csv\")\n",
    "\n",
    "# Replace original topic_label with topic_label_final before downstream analysis\n",
    "df['topic_label'] = df['topic_label_final']\n"
   ]
  },
  {
   "cell_type": "markdown",
   "id": "bb35e9c2",
   "metadata": {},
   "source": [
    "## Answer the Question 2 and 3"
   ]
  },
  {
   "cell_type": "code",
   "execution_count": null,
   "id": "61af85bd",
   "metadata": {},
   "outputs": [
    {
     "ename": "UnicodeDecodeError",
     "evalue": "'utf-8' codec can't decode byte 0x96 in position 604: invalid start byte",
     "output_type": "error",
     "traceback": [
      "\u001b[31m---------------------------------------------------------------------------\u001b[39m",
      "\u001b[31mUnicodeDecodeError\u001b[39m                        Traceback (most recent call last)",
      "\u001b[36mCell\u001b[39m\u001b[36m \u001b[39m\u001b[32mIn[36]\u001b[39m\u001b[32m, line 50\u001b[39m\n\u001b[32m     46\u001b[39m     plt.show()\n\u001b[32m     49\u001b[39m \u001b[38;5;66;03m# Example usage with your dataframe:\u001b[39;00m\n\u001b[32m---> \u001b[39m\u001b[32m50\u001b[39m df = \u001b[43mpd\u001b[49m\u001b[43m.\u001b[49m\u001b[43mread_csv\u001b[49m\u001b[43m(\u001b[49m\u001b[33;43m\"\u001b[39;49m\u001b[33;43mclustered_labelled_queries_final.csv\u001b[39;49m\u001b[33;43m\"\u001b[39;49m\u001b[43m)\u001b[49m\n\u001b[32m     51\u001b[39m show_topic_counts(df, \u001b[32m27\u001b[39m)\n",
      "\u001b[36mFile \u001b[39m\u001b[32m~\\AppData\\Local\\Packages\\PythonSoftwareFoundation.Python.3.13_qbz5n2kfra8p0\\LocalCache\\local-packages\\Python313\\site-packages\\pandas\\io\\parsers\\readers.py:1026\u001b[39m, in \u001b[36mread_csv\u001b[39m\u001b[34m(filepath_or_buffer, sep, delimiter, header, names, index_col, usecols, dtype, engine, converters, true_values, false_values, skipinitialspace, skiprows, skipfooter, nrows, na_values, keep_default_na, na_filter, verbose, skip_blank_lines, parse_dates, infer_datetime_format, keep_date_col, date_parser, date_format, dayfirst, cache_dates, iterator, chunksize, compression, thousands, decimal, lineterminator, quotechar, quoting, doublequote, escapechar, comment, encoding, encoding_errors, dialect, on_bad_lines, delim_whitespace, low_memory, memory_map, float_precision, storage_options, dtype_backend)\u001b[39m\n\u001b[32m   1013\u001b[39m kwds_defaults = _refine_defaults_read(\n\u001b[32m   1014\u001b[39m     dialect,\n\u001b[32m   1015\u001b[39m     delimiter,\n\u001b[32m   (...)\u001b[39m\u001b[32m   1022\u001b[39m     dtype_backend=dtype_backend,\n\u001b[32m   1023\u001b[39m )\n\u001b[32m   1024\u001b[39m kwds.update(kwds_defaults)\n\u001b[32m-> \u001b[39m\u001b[32m1026\u001b[39m \u001b[38;5;28;01mreturn\u001b[39;00m \u001b[43m_read\u001b[49m\u001b[43m(\u001b[49m\u001b[43mfilepath_or_buffer\u001b[49m\u001b[43m,\u001b[49m\u001b[43m \u001b[49m\u001b[43mkwds\u001b[49m\u001b[43m)\u001b[49m\n",
      "\u001b[36mFile \u001b[39m\u001b[32m~\\AppData\\Local\\Packages\\PythonSoftwareFoundation.Python.3.13_qbz5n2kfra8p0\\LocalCache\\local-packages\\Python313\\site-packages\\pandas\\io\\parsers\\readers.py:620\u001b[39m, in \u001b[36m_read\u001b[39m\u001b[34m(filepath_or_buffer, kwds)\u001b[39m\n\u001b[32m    617\u001b[39m _validate_names(kwds.get(\u001b[33m\"\u001b[39m\u001b[33mnames\u001b[39m\u001b[33m\"\u001b[39m, \u001b[38;5;28;01mNone\u001b[39;00m))\n\u001b[32m    619\u001b[39m \u001b[38;5;66;03m# Create the parser.\u001b[39;00m\n\u001b[32m--> \u001b[39m\u001b[32m620\u001b[39m parser = \u001b[43mTextFileReader\u001b[49m\u001b[43m(\u001b[49m\u001b[43mfilepath_or_buffer\u001b[49m\u001b[43m,\u001b[49m\u001b[43m \u001b[49m\u001b[43m*\u001b[49m\u001b[43m*\u001b[49m\u001b[43mkwds\u001b[49m\u001b[43m)\u001b[49m\n\u001b[32m    622\u001b[39m \u001b[38;5;28;01mif\u001b[39;00m chunksize \u001b[38;5;129;01mor\u001b[39;00m iterator:\n\u001b[32m    623\u001b[39m     \u001b[38;5;28;01mreturn\u001b[39;00m parser\n",
      "\u001b[36mFile \u001b[39m\u001b[32m~\\AppData\\Local\\Packages\\PythonSoftwareFoundation.Python.3.13_qbz5n2kfra8p0\\LocalCache\\local-packages\\Python313\\site-packages\\pandas\\io\\parsers\\readers.py:1620\u001b[39m, in \u001b[36mTextFileReader.__init__\u001b[39m\u001b[34m(self, f, engine, **kwds)\u001b[39m\n\u001b[32m   1617\u001b[39m     \u001b[38;5;28mself\u001b[39m.options[\u001b[33m\"\u001b[39m\u001b[33mhas_index_names\u001b[39m\u001b[33m\"\u001b[39m] = kwds[\u001b[33m\"\u001b[39m\u001b[33mhas_index_names\u001b[39m\u001b[33m\"\u001b[39m]\n\u001b[32m   1619\u001b[39m \u001b[38;5;28mself\u001b[39m.handles: IOHandles | \u001b[38;5;28;01mNone\u001b[39;00m = \u001b[38;5;28;01mNone\u001b[39;00m\n\u001b[32m-> \u001b[39m\u001b[32m1620\u001b[39m \u001b[38;5;28mself\u001b[39m._engine = \u001b[38;5;28;43mself\u001b[39;49m\u001b[43m.\u001b[49m\u001b[43m_make_engine\u001b[49m\u001b[43m(\u001b[49m\u001b[43mf\u001b[49m\u001b[43m,\u001b[49m\u001b[43m \u001b[49m\u001b[38;5;28;43mself\u001b[39;49m\u001b[43m.\u001b[49m\u001b[43mengine\u001b[49m\u001b[43m)\u001b[49m\n",
      "\u001b[36mFile \u001b[39m\u001b[32m~\\AppData\\Local\\Packages\\PythonSoftwareFoundation.Python.3.13_qbz5n2kfra8p0\\LocalCache\\local-packages\\Python313\\site-packages\\pandas\\io\\parsers\\readers.py:1898\u001b[39m, in \u001b[36mTextFileReader._make_engine\u001b[39m\u001b[34m(self, f, engine)\u001b[39m\n\u001b[32m   1895\u001b[39m     \u001b[38;5;28;01mraise\u001b[39;00m \u001b[38;5;167;01mValueError\u001b[39;00m(msg)\n\u001b[32m   1897\u001b[39m \u001b[38;5;28;01mtry\u001b[39;00m:\n\u001b[32m-> \u001b[39m\u001b[32m1898\u001b[39m     \u001b[38;5;28;01mreturn\u001b[39;00m \u001b[43mmapping\u001b[49m\u001b[43m[\u001b[49m\u001b[43mengine\u001b[49m\u001b[43m]\u001b[49m\u001b[43m(\u001b[49m\u001b[43mf\u001b[49m\u001b[43m,\u001b[49m\u001b[43m \u001b[49m\u001b[43m*\u001b[49m\u001b[43m*\u001b[49m\u001b[38;5;28;43mself\u001b[39;49m\u001b[43m.\u001b[49m\u001b[43moptions\u001b[49m\u001b[43m)\u001b[49m\n\u001b[32m   1899\u001b[39m \u001b[38;5;28;01mexcept\u001b[39;00m \u001b[38;5;167;01mException\u001b[39;00m:\n\u001b[32m   1900\u001b[39m     \u001b[38;5;28;01mif\u001b[39;00m \u001b[38;5;28mself\u001b[39m.handles \u001b[38;5;129;01mis\u001b[39;00m \u001b[38;5;129;01mnot\u001b[39;00m \u001b[38;5;28;01mNone\u001b[39;00m:\n",
      "\u001b[36mFile \u001b[39m\u001b[32m~\\AppData\\Local\\Packages\\PythonSoftwareFoundation.Python.3.13_qbz5n2kfra8p0\\LocalCache\\local-packages\\Python313\\site-packages\\pandas\\io\\parsers\\c_parser_wrapper.py:93\u001b[39m, in \u001b[36mCParserWrapper.__init__\u001b[39m\u001b[34m(self, src, **kwds)\u001b[39m\n\u001b[32m     90\u001b[39m \u001b[38;5;28;01mif\u001b[39;00m kwds[\u001b[33m\"\u001b[39m\u001b[33mdtype_backend\u001b[39m\u001b[33m\"\u001b[39m] == \u001b[33m\"\u001b[39m\u001b[33mpyarrow\u001b[39m\u001b[33m\"\u001b[39m:\n\u001b[32m     91\u001b[39m     \u001b[38;5;66;03m# Fail here loudly instead of in cython after reading\u001b[39;00m\n\u001b[32m     92\u001b[39m     import_optional_dependency(\u001b[33m\"\u001b[39m\u001b[33mpyarrow\u001b[39m\u001b[33m\"\u001b[39m)\n\u001b[32m---> \u001b[39m\u001b[32m93\u001b[39m \u001b[38;5;28mself\u001b[39m._reader = \u001b[43mparsers\u001b[49m\u001b[43m.\u001b[49m\u001b[43mTextReader\u001b[49m\u001b[43m(\u001b[49m\u001b[43msrc\u001b[49m\u001b[43m,\u001b[49m\u001b[43m \u001b[49m\u001b[43m*\u001b[49m\u001b[43m*\u001b[49m\u001b[43mkwds\u001b[49m\u001b[43m)\u001b[49m\n\u001b[32m     95\u001b[39m \u001b[38;5;28mself\u001b[39m.unnamed_cols = \u001b[38;5;28mself\u001b[39m._reader.unnamed_cols\n\u001b[32m     97\u001b[39m \u001b[38;5;66;03m# error: Cannot determine type of 'names'\u001b[39;00m\n",
      "\u001b[36mFile \u001b[39m\u001b[32mparsers.pyx:574\u001b[39m, in \u001b[36mpandas._libs.parsers.TextReader.__cinit__\u001b[39m\u001b[34m()\u001b[39m\n",
      "\u001b[36mFile \u001b[39m\u001b[32mparsers.pyx:663\u001b[39m, in \u001b[36mpandas._libs.parsers.TextReader._get_header\u001b[39m\u001b[34m()\u001b[39m\n",
      "\u001b[36mFile \u001b[39m\u001b[32mparsers.pyx:874\u001b[39m, in \u001b[36mpandas._libs.parsers.TextReader._tokenize_rows\u001b[39m\u001b[34m()\u001b[39m\n",
      "\u001b[36mFile \u001b[39m\u001b[32mparsers.pyx:891\u001b[39m, in \u001b[36mpandas._libs.parsers.TextReader._check_tokenize_status\u001b[39m\u001b[34m()\u001b[39m\n",
      "\u001b[36mFile \u001b[39m\u001b[32mparsers.pyx:2053\u001b[39m, in \u001b[36mpandas._libs.parsers.raise_parser_error\u001b[39m\u001b[34m()\u001b[39m\n",
      "\u001b[36mFile \u001b[39m\u001b[32m<frozen codecs>:325\u001b[39m, in \u001b[36mdecode\u001b[39m\u001b[34m(self, input, final)\u001b[39m\n",
      "\u001b[31mUnicodeDecodeError\u001b[39m: 'utf-8' codec can't decode byte 0x96 in position 604: invalid start byte"
     ]
    }
   ],
   "source": [
    "import matplotlib.pyplot as plt\n",
    "import seaborn as sns  # for color palette\n",
    "import pandas as pd\n",
    "\n",
    "def show_topic_counts(df, N=10):\n",
    "    # Count topic labels\n",
    "    topic_counts = df['topic_label_final'].value_counts().sort_values(ascending=False)\n",
    "    top_topics = topic_counts.head(N)\n",
    "\n",
    "    labels = top_topics.index.tolist()\n",
    "    counts = top_topics.values.tolist()\n",
    "\n",
    "    # Find where \"Registration & Sign-Up Issues\" appears in current chart\n",
    "    try:\n",
    "        separator_index = labels.index(\"Registration Help & Issues\")\n",
    "    except ValueError:\n",
    "        separator_index = None  # Don't draw separator if it's not in top N\n",
    "\n",
    "    x_pos = range(len(labels))  # positions for bars\n",
    "\n",
    "    # Get distinct colors for bars using seaborn color palette\n",
    "    colors = sns.color_palette(\"viridis\", n_colors=len(labels))\n",
    "\n",
    "    plt.figure(figsize=(max(10, 0.6 * N), 6))\n",
    "    bars = plt.bar(x_pos, counts, color=colors)\n",
    "\n",
    "    # Set topic labels at the x-axis with rotation for better readability\n",
    "    plt.xticks(x_pos, labels, rotation=45, ha='right')\n",
    "\n",
    "    # Annotate counts on top of each bar\n",
    "    for bar, count in zip(bars, counts):\n",
    "        height = bar.get_height()\n",
    "        plt.text(bar.get_x() + bar.get_width() / 2, height + max(counts)*0.01, str(count),\n",
    "                 ha='center', va='bottom', fontsize=9)\n",
    "\n",
    "    # Draw red separator line AFTER the 'Registration & Sign-Up Issues' bar\n",
    "    if separator_index is not None:\n",
    "        # Position on x-axis is separator_index + 0.5 for line after the bar\n",
    "        plt.axvline(x=separator_index + 0.5, color='red', linestyle='--', linewidth=1.5)\n",
    "\n",
    "    plt.ylabel(\"Number of Queries\", fontsize=12)\n",
    "    plt.title(\"TOP 10 Topics by Query Count (Red line = After 'Registration Help & Issues')\",\n",
    "              fontsize=14, weight='bold')\n",
    "    plt.grid(axis='y', linestyle='--', alpha=0.5)\n",
    "    plt.tight_layout()\n",
    "    plt.show()\n",
    "\n",
    "\n",
    "# Example usage with your dataframe:\n",
    "df = pd.read_csv(\"clustered_labelled_queries_final.csv\", encoding=\"cp1252\")\n",
    "\n",
    "show_topic_counts(df, 27)\n"
   ]
  },
  {
   "cell_type": "code",
   "execution_count": null,
   "id": "ae2ea9c3",
   "metadata": {},
   "outputs": [],
   "source": [
    "# 5 sample per topic\n",
    "\n",
    "def show_sample_queries(df, n=5):\n",
    "    print(\"\\n📝 Sample Queries per Topic\")\n",
    "    print(\"=\" * 60)\n",
    "\n",
    "    grouped = df.groupby('topic_label_final')\n",
    "    for topic, group in grouped:\n",
    "        print(f\"\\n {topic} — {len(group)} queries\")\n",
    "        print(\"\\n📝 Sample Queries:\")\n",
    "        print(\"-\" * 40)\n",
    "        samples = group['raw_query'].head(n).tolist()\n",
    "        for query in samples:\n",
    "            print(f\"• {query}\")\n",
    "\n",
    "show_sample_queries(df)\n"
   ]
  },
  {
   "cell_type": "code",
   "execution_count": null,
   "id": "c1d23b29",
   "metadata": {},
   "outputs": [],
   "source": []
  },
  {
   "cell_type": "code",
   "execution_count": null,
   "id": "4f1a4d5e",
   "metadata": {},
   "outputs": [],
   "source": []
  },
  {
   "cell_type": "code",
   "execution_count": null,
   "id": "c0a01a56",
   "metadata": {},
   "outputs": [],
   "source": []
  }
 ],
 "metadata": {
  "kernelspec": {
   "display_name": "Python 3",
   "language": "python",
   "name": "python3"
  },
  "language_info": {
   "codemirror_mode": {
    "name": "ipython",
    "version": 3
   },
   "file_extension": ".py",
   "mimetype": "text/x-python",
   "name": "python",
   "nbconvert_exporter": "python",
   "pygments_lexer": "ipython3",
   "version": "3.13.6"
  }
 },
 "nbformat": 4,
 "nbformat_minor": 5
}
